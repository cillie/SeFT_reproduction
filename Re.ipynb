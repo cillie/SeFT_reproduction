{
 "cells": [
  {
   "cell_type": "code",
   "execution_count": 2,
   "outputs": [],
   "source": [
    "import torch\n",
    "from torch import nn\n",
    "from torch.nn.parameter import Parameter"
   ],
   "metadata": {
    "collapsed": false,
    "ExecuteTime": {
     "end_time": "2023-10-13T03:50:35.445117Z",
     "start_time": "2023-10-13T03:50:32.377124400Z"
    }
   },
   "id": "84afac9fea176a15"
  },
  {
   "cell_type": "code",
   "execution_count": null,
   "outputs": [],
   "source": [
    "class PositionalEncoding(nn.Module):\n",
    "    def __init__(self, max_time=20000, n_dim=10):\n",
    "        super().__init__()\n",
    "        self.max_time = max_time\n",
    "        self.n_dim = n_dim\n",
    "        self._num_timescales = self.n_dim // 2\n",
    "        self.timescales = Parameter(self.get_timescales(), requires_grad=False)\n",
    "    \n",
    "    def get_timescales(self):\n",
    "        timescales = self.max_time ** torch.linspace(0, 1, self._num_timescales)\n",
    "        return timescales\n",
    "    \n",
    "    def forward(self, times):\n",
    "        scaled_time = times / self.timescales[None, None, :]\n",
    "        signal = torch.cat(\n",
    "            [\n",
    "                torch.sin(scaled_time), \n",
    "                torch.cos(scaled_time)\n",
    "            ], \n",
    "            dim=-1)\n",
    "        return signal"
   ],
   "metadata": {
    "collapsed": false
   },
   "id": "270a4de0866d3db2"
  },
  {
   "cell_type": "code",
   "execution_count": null,
   "outputs": [],
   "source": [
    "class SetAttentionLayer(nn.Module):\n",
    "    dense_options = {\n",
    "        'activation': 'relu',\n",
    "        'kernel_initializer': 'he_uniform'\n",
    "    }\n",
    "    \n",
    "    def __init__(self, n_layers=2, width=128, latent_width=128,\n",
    "                 aggregation_function='mean',\n",
    "                 dot_prod_dim=64, n_heads=4, attn_dropout=0.3):\n",
    "        super().__init__()\n",
    "        self.width = width\n",
    "        self.dot_prod_dim = dot_prod_dim\n",
    "        self.attn_dropout = attn_dropout\n",
    "        self.n_heads = n_heads\n",
    "        "
   ],
   "metadata": {
    "collapsed": false
   },
   "id": "f6b68417b190766d"
  }
 ],
 "metadata": {
  "kernelspec": {
   "display_name": "Python 3",
   "language": "python",
   "name": "python3"
  },
  "language_info": {
   "codemirror_mode": {
    "name": "ipython",
    "version": 2
   },
   "file_extension": ".py",
   "mimetype": "text/x-python",
   "name": "python",
   "nbconvert_exporter": "python",
   "pygments_lexer": "ipython2",
   "version": "2.7.6"
  }
 },
 "nbformat": 4,
 "nbformat_minor": 5
}
